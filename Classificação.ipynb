{
  "nbformat": 4,
  "nbformat_minor": 0,
  "metadata": {
    "colab": {
      "provenance": [],
      "authorship_tag": "ABX9TyNpZ2xY7ZfkYtQ4lB1F6VYf",
      "include_colab_link": true
    },
    "kernelspec": {
      "name": "python3",
      "display_name": "Python 3"
    },
    "language_info": {
      "name": "python"
    }
  },
  "cells": [
    {
      "cell_type": "markdown",
      "metadata": {
        "id": "view-in-github",
        "colab_type": "text"
      },
      "source": [
        "<a href=\"https://colab.research.google.com/github/Brunapupo/machine-learning-classificacao-sklearn/blob/main/Classifica%C3%A7%C3%A3o.ipynb\" target=\"_parent\"><img src=\"https://colab.research.google.com/assets/colab-badge.svg\" alt=\"Open In Colab\"/></a>"
      ]
    },
    {
      "cell_type": "markdown",
      "source": [
        "\n",
        "\n",
        "---\n",
        "\n"
      ],
      "metadata": {
        "id": "FE_SgTmWVMJr"
      }
    },
    {
      "cell_type": "code",
      "source": [
        "porco1 = [0, 1, 0]\n",
        "porco2 = [0, 1, 1]\n",
        "porco3 = [1, 1, 0]\n",
        "\n",
        "cachorro1 = [0, 1, 1]\n",
        "cachorro2 = [1, 0, 1]\n",
        "cachorro3 = [1, 1, 1]\n",
        "\n",
        "# 1 => porco, 0 => cachorro\n",
        "# x são os dados e y são as classes do modelo para treinar o algoritmo\n",
        "train_x = [porco1, porco2, porco3, cachorro1, cachorro2, cachorro3]\n",
        "train_y = [1, 1, 1, 0, 0, 0] # labels 0 ou 1"
      ],
      "metadata": {
        "id": "kF6BTJtFp2kp"
      },
      "execution_count": null,
      "outputs": []
    },
    {
      "cell_type": "code",
      "source": [
        "from sklearn.svm import LinearSVC\n",
        "# trinando os modelos\n",
        "model = LinearSVC()\n",
        "model.fit(train_x, train_y)"
      ],
      "metadata": {
        "id": "R7mUxLnCXkwX"
      },
      "execution_count": null,
      "outputs": []
    },
    {
      "cell_type": "code",
      "source": [
        "animal_misterioso = [1, 1, 1]\n",
        "model.predict([animal_misterioso])"
      ],
      "metadata": {
        "colab": {
          "base_uri": "https://localhost:8080/"
        },
        "id": "P_GUXfP5rgzY",
        "outputId": "04da26f3-5d1e-46bd-effb-d750b97a48bb"
      },
      "execution_count": null,
      "outputs": [
        {
          "output_type": "execute_result",
          "data": {
            "text/plain": [
              "array([0])"
            ]
          },
          "metadata": {},
          "execution_count": 4
        }
      ]
    },
    {
      "cell_type": "code",
      "source": [
        "#testando vários animais\n",
        "\n",
        "misterio1 = [1, 1, 1]\n",
        "misterio2 = [1, 1, 0]\n",
        "misterio3 = [0, 1, 1]\n",
        "\n",
        "# o primeiro é 0 = cachorro\n",
        "# o  segundo é 1 = porco\n",
        "# o terceiro é 0 = cachorro\n",
        "teste_x = [misterio1, misterio2, misterio3]\n",
        "teste_y = [0, 1, 1]\n",
        "\n",
        "# Prever o comportamento\n"
      ],
      "metadata": {
        "id": "wmwwXZUzsf2W"
      },
      "execution_count": null,
      "outputs": []
    },
    {
      "cell_type": "code",
      "source": [
        "previsoes = model.predict(teste_x)"
      ],
      "metadata": {
        "id": "zr0g61lGtsG8"
      },
      "execution_count": null,
      "outputs": []
    },
    {
      "cell_type": "markdown",
      "source": [
        " **Comparar os arrays para taxa de acertos!**"
      ],
      "metadata": {
        "id": "dy9pIDi4uOMe"
      }
    },
    {
      "cell_type": "code",
      "source": [
        "# previsoes é array e testes_classes é uma lista\n",
        "# devolve um array do numpay\n",
        "\n",
        "corretos = (previsoes == teste_y).sum()\n",
        "total = len(teste_x)\n",
        "taxa_de_acerto = corretos/total\n",
        "print('A Taxa de acerto: %.2f' % (taxa_de_acerto * 100))"
      ],
      "metadata": {
        "colab": {
          "base_uri": "https://localhost:8080/"
        },
        "id": "MeZUXznuudcl",
        "outputId": "9e6bea61-7d61-4f12-b5ee-2741d54c8f2b"
      },
      "execution_count": null,
      "outputs": [
        {
          "output_type": "stream",
          "name": "stdout",
          "text": [
            "A Taxa de acerto: 66.67\n"
          ]
        }
      ]
    },
    {
      "cell_type": "markdown",
      "source": [
        "**Taxa de acerto usando a biblioteca Sklearn.svm função ACCURACY**"
      ],
      "metadata": {
        "id": "JDLR4TLkvovE"
      }
    },
    {
      "cell_type": "code",
      "source": [
        "from sklearn.metrics import accuracy_score\n",
        "\n",
        "taxa_de_acerto = accuracy_score(teste_y, previsoes)\n",
        "print('A Taxa de acerto: %.2f' % (taxa_de_acerto * 100))"
      ],
      "metadata": {
        "colab": {
          "base_uri": "https://localhost:8080/"
        },
        "id": "i7zrVlABvxoQ",
        "outputId": "4214f23b-9abc-43ed-8173-376eecf3ab99"
      },
      "execution_count": null,
      "outputs": [
        {
          "output_type": "stream",
          "name": "stdout",
          "text": [
            "A Taxa de acerto: 66.67\n"
          ]
        }
      ]
    }
  ]
}