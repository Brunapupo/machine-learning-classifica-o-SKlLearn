{
  "nbformat": 4,
  "nbformat_minor": 0,
  "metadata": {
    "colab": {
      "provenance": [],
      "authorship_tag": "ABX9TyMFjLyA2GtjfwSJ0z7eVdhu",
      "include_colab_link": true
    },
    "kernelspec": {
      "name": "python3",
      "display_name": "Python 3"
    },
    "language_info": {
      "name": "python"
    }
  },
  "cells": [
    {
      "cell_type": "markdown",
      "metadata": {
        "id": "view-in-github",
        "colab_type": "text"
      },
      "source": [
        "<a href=\"https://colab.research.google.com/github/Brunapupo/machine-learning-classificacao-sklearn/blob/main/treino_e_teste.ipynb\" target=\"_parent\"><img src=\"https://colab.research.google.com/assets/colab-badge.svg\" alt=\"Open In Colab\"/></a>"
      ]
    },
    {
      "cell_type": "code",
      "execution_count": null,
      "metadata": {
        "id": "KJNyMMi3rDcC"
      },
      "outputs": [],
      "source": [
        "import pandas as pd\n",
        "\n",
        "uri = \"https://gist.githubusercontent.com/guilhermesilveira/2d2efa37d66b6c84a722ea627a897ced/raw/10968b997d885cbded1c92938c7a9912ba41c615/tracking.csv\"\n",
        "dados = pd.read_csv(uri)\n",
        "dados.head() # imprime as primeiras linhas, por default as primerias 5.\n"
      ]
    },
    {
      "cell_type": "markdown",
      "source": [
        "👉 **Para modificar as nomeações em inglês que já estamos utilizando, usaremos uma funcionalidade do Pandas que possibilita a renomeação das colunas.**"
      ],
      "metadata": {
        "id": "pc_47rTTs1qj"
      }
    },
    {
      "cell_type": "code",
      "source": [
        "mapa = {\n",
        "    \"home\" : \"principal\",\n",
        "    \"how_it_works\" : \"como_funciona\",\n",
        "    \"contact\" : \"contato\",\n",
        "    \"bought\" : \"comprou\"\n",
        "}\n",
        "dados = dados.rename(columns = mapa)"
      ],
      "metadata": {
        "id": "qantqcXBr-Qo"
      },
      "execution_count": 17,
      "outputs": []
    },
    {
      "cell_type": "code",
      "source": [
        "x = dados[['principal', 'como_funciona', 'contato']] #seleciona apenas as colunas dentro de um array.\n",
        "y = dados['comprou']\n",
        "print(y)\n",
        "y.head()"
      ],
      "metadata": {
        "id": "XA350Qitryx4"
      },
      "execution_count": null,
      "outputs": []
    },
    {
      "cell_type": "markdown",
      "source": [
        " 👉 **Agora que temos x e y separados, devemos nos questionar: devemos treinar os algorítimos com todos os dados? Se fizermos isso, não teremos o que testar, pois dessa forma a máquina já terá as respostas corretas previamente, sendo incapaz de prever dados fora desse conjunto. De alguma maneira, precisamos sempre separar os dados de treino e os de teste para não enviesarmos os resultados produzidos.**\n",
        "\n",
        "## **Portanto em um conjunto de dados, sempre separamos o Treino do Teste!.**"
      ],
      "metadata": {
        "id": "s4uhP5VEtzTE"
      }
    },
    {
      "cell_type": "code",
      "source": [
        "dados.shape #formato dos dados"
      ],
      "metadata": {
        "id": "k3CJqHubt4k2"
      },
      "execution_count": null,
      "outputs": []
    },
    {
      "cell_type": "code",
      "source": [
        "#Separei em média 25% para testar o algorítimo, e o restante (cerca de 75% dos dados) para o treinamento.\n",
        "\n",
        "treino_x = x[:75]\n",
        "treino_x.shape"
      ],
      "metadata": {
        "colab": {
          "base_uri": "https://localhost:8080/"
        },
        "id": "E-9Y3F-WvHa3",
        "outputId": "a260fa3c-3c72-43c0-86c9-0cabbc497f2f"
      },
      "execution_count": 21,
      "outputs": [
        {
          "output_type": "execute_result",
          "data": {
            "text/plain": [
              "(75, 3)"
            ]
          },
          "metadata": {},
          "execution_count": 21
        }
      ]
    },
    {
      "cell_type": "code",
      "source": [
        "treino_x = x[:75]\n",
        "treino_y = y[:75]\n",
        "teste_x = x[75:]\n",
        "teste_y = y[75:]\n",
        "teste_y.shape\n",
        "\n",
        "print(\"Treinaremos com %d elementos e testaremos com %d elementos\" % (len(treino_x), len(teste_x)))"
      ],
      "metadata": {
        "id": "8yzbBa_1vgPv"
      },
      "execution_count": null,
      "outputs": []
    },
    {
      "cell_type": "markdown",
      "source": [
        "# ✅ **Algoritmo de Treinamento**"
      ],
      "metadata": {
        "id": "VUTq_kuny0Wa"
      }
    },
    {
      "cell_type": "code",
      "source": [
        "from sklearn.svm import LinearSVC\n",
        "from sklearn.metrics import accuracy_score\n",
        "\n",
        "#Criando modelo de treinamento\n",
        "modelo = LinearSVC()\n",
        "modelo.fit(treino_x, treino_y)\n",
        "\n",
        "#comparando as previsões\n",
        "previsoes = modelo.predict(teste_x)\n",
        "\n",
        "acuracia = accuracy_score(teste_y, previsoes) * 100 #accuracy taxa de acerto.\n",
        "print(\"A acurácia foi %.2f%%\" % acuracia)\n"
      ],
      "metadata": {
        "id": "CpVXJKGUv9EB"
      },
      "execution_count": null,
      "outputs": []
    },
    {
      "cell_type": "markdown",
      "source": [
        "# **A acurácia foi 95.83%**\n",
        "\n",
        "👉 Por meio desse exemplo, tivemos um contato mais realista com tratamentos de algorítimos de machine learning, uma vez que importamos a fonte de dados e realizamos os tratamentos necessários, renomeando colunas e separando os dados de treino e teste até que finalmente executamos o modelo."
      ],
      "metadata": {
        "id": "-KsvEIyexG2s"
      }
    },
    {
      "cell_type": "code",
      "source": [],
      "metadata": {
        "id": "_jKRzxj20M75"
      },
      "execution_count": null,
      "outputs": []
    },
    {
      "cell_type": "markdown",
      "source": [
        "# ⏭ **Usando Sklearn para separar treino e teste**"
      ],
      "metadata": {
        "id": "HcB0_wzjzK5W"
      }
    },
    {
      "cell_type": "code",
      "source": [
        "from sklearn.model_selection import train_test_split\n",
        "\n",
        "SEED = 20\n",
        "\n",
        "#Separar dados de treino e de teste, com o split, uma maneira mais elegante.\n",
        "\n",
        "treino_x, teste_x, treino_y, teste_y = train_test_split(x, y, random_state = SEED, test_size =0.25)\n",
        "print(\"Treinaremos com %d elementos e testaremos com %d elementos\" % (len(treino_x), len(teste_x)))"
      ],
      "metadata": {
        "colab": {
          "base_uri": "https://localhost:8080/"
        },
        "id": "jYp4lbzkxwQ9",
        "outputId": "c9a578c3-0a66-4d9d-e91d-379731ed8d4d"
      },
      "execution_count": 59,
      "outputs": [
        {
          "output_type": "stream",
          "name": "stdout",
          "text": [
            "Treinaremos com 74 elementos e testaremos com 25 elementos\n"
          ]
        }
      ]
    },
    {
      "cell_type": "code",
      "source": [
        "from sklearn.svm import LinearSVC\n",
        "from sklearn.metrics import accuracy_score\n",
        "\n",
        "\n",
        "\n",
        "#Criando modelo de treinamento\n",
        "modelo = LinearSVC()\n",
        "modelo.fit(treino_x, treino_y)\n",
        "previsoes = modelo.predict(teste_x)\n",
        "\n",
        "acuracia = accuracy_score(teste_y, previsoes) * 100 #accuracy taxa de acerto.\n",
        "print(\"A acurácia foi %.2f%%\" % acuracia)"
      ],
      "metadata": {
        "colab": {
          "base_uri": "https://localhost:8080/"
        },
        "id": "uV3C4nCayCtE",
        "outputId": "8e73a349-0340-4046-82e8-251649b17fe3"
      },
      "execution_count": 60,
      "outputs": [
        {
          "output_type": "stream",
          "name": "stdout",
          "text": [
            "A acurácia foi 96.00%\n"
          ]
        }
      ]
    },
    {
      "cell_type": "code",
      "source": [
        "treino_y.value_counts()"
      ],
      "metadata": {
        "colab": {
          "base_uri": "https://localhost:8080/"
        },
        "id": "WwZmVOXO0cUg",
        "outputId": "79f6cc99-943e-407a-c6b9-16c206ddca11"
      },
      "execution_count": 61,
      "outputs": [
        {
          "output_type": "execute_result",
          "data": {
            "text/plain": [
              "0    47\n",
              "1    27\n",
              "Name: comprou, dtype: int64"
            ]
          },
          "metadata": {},
          "execution_count": 61
        }
      ]
    },
    {
      "cell_type": "markdown",
      "source": [
        " # ⚡ **é importante que a proporção dos nossos dados seja proporcional. Para isso,, inseriremos mais um argumento na separação de dados (train_test_split): o stratify = y, que irá estratificar os dados proporcionalmente de acordo com y.**"
      ],
      "metadata": {
        "id": "POlzdMK20vzg"
      }
    },
    {
      "cell_type": "code",
      "source": [
        "from sklearn.model_selection import train_test_split\n",
        "from sklearn.svm import LinearSVC\n",
        "from sklearn.metrics import accuracy_score\n",
        "\n",
        "SEED = 20\n",
        "\n",
        "treino_x, teste_x, treino_y, teste_y = train_test_split(x, y,\n",
        "                                                         random_state = SEED, test_size = 0.25,\n",
        "                                                         stratify = y)\n",
        "print(\"Treinaremos com %d elementos e testaremos com %d elementos\" % (len(treino_x), len(teste_x)))\n",
        "\n",
        "modelo = LinearSVC()\n",
        "modelo.fit(treino_x, treino_y)\n",
        "previsoes = modelo.predict(teste_x)\n",
        "\n",
        "acuracia = accuracy_score(teste_y, previsoes) * 100\n",
        "print(\"A acurácia foi %.2f%%\" % acuracia)"
      ],
      "metadata": {
        "colab": {
          "base_uri": "https://localhost:8080/"
        },
        "id": "-zLMI6Xl0gUg",
        "outputId": "7f604e2f-6fb4-4358-f79b-5d62d144e51b"
      },
      "execution_count": 62,
      "outputs": [
        {
          "output_type": "stream",
          "name": "stdout",
          "text": [
            "Treinaremos com 74 elementos e testaremos com 25 elementos\n",
            "A acurácia foi 96.00%\n"
          ]
        }
      ]
    },
    {
      "cell_type": "code",
      "source": [],
      "metadata": {
        "id": "85ZXwxL51A9-"
      },
      "execution_count": null,
      "outputs": []
    },
    {
      "cell_type": "markdown",
      "source": [
        "# **✅ Treinei com 74 elementos e testaremos com 25 elementos**\n",
        "\n",
        "# **A acurácia foi 96.00%**"
      ],
      "metadata": {
        "id": "X4qE3Yx41BGp"
      }
    }
  ]
}